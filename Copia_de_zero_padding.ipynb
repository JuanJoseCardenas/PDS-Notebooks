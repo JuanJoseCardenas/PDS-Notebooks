{
  "nbformat": 4,
  "nbformat_minor": 0,
  "metadata": {
    "anaconda-cloud": {},
    "kernelspec": {
      "display_name": "Python 3",
      "language": "python",
      "name": "python3"
    },
    "language_info": {
      "codemirror_mode": {
        "name": "ipython",
        "version": 3
      },
      "file_extension": ".py",
      "mimetype": "text/x-python",
      "name": "python",
      "nbconvert_exporter": "python",
      "pygments_lexer": "ipython3",
      "version": "3.7.1"
    },
    "colab": {
      "name": "Copia de zero_padding.ipynb",
      "provenance": [],
      "include_colab_link": true
    }
  },
  "cells": [
    {
      "cell_type": "markdown",
      "metadata": {
        "id": "view-in-github",
        "colab_type": "text"
      },
      "source": [
        "<a href=\"https://colab.research.google.com/github/JuanJoseCardenas/PDS-Notebooks/blob/master/Copia_de_zero_padding.ipynb\" target=\"_parent\"><img src=\"https://colab.research.google.com/assets/colab-badge.svg\" alt=\"Open In Colab\"/></a>"
      ]
    },
    {
      "cell_type": "markdown",
      "metadata": {
        "nbsphinx": "hidden",
        "id": "kC_VuQqMdr1X",
        "colab_type": "text"
      },
      "source": [
        "# Spectral Analysis of Deterministic Signals\n",
        "\n",
        "*This jupyter notebook is part of a [collection of notebooks](../index.ipynb) on various topics of Digital Signal Processing. Please direct questions and suggestions to [Sascha.Spors@uni-rostock.de](mailto:Sascha.Spors@uni-rostock.de).*"
      ]
    },
    {
      "cell_type": "markdown",
      "metadata": {
        "id": "yE4K4yfNdr1Y",
        "colab_type": "text"
      },
      "source": [
        "## Zero-Padding"
      ]
    },
    {
      "cell_type": "markdown",
      "metadata": {
        "id": "c6T06486dr1Y",
        "colab_type": "text"
      },
      "source": [
        "### Concept"
      ]
    },
    {
      "cell_type": "markdown",
      "metadata": {
        "id": "6p8UwkPCdr1Z",
        "colab_type": "text"
      },
      "source": [
        "Let's assume a signal $x_N[k]$ of finite length $N$, for instance a windowed signal $x_N[k] = x[k] \\cdot \\text{rect}_N[k]$. The discrete Fourier transformation (DFT) of $x_N[k]$ reads\n",
        "\n",
        "\\begin{equation}\n",
        "X_N[\\mu] = \\sum_{k=0}^{N-1} x_N[k] \\; w_N^{\\mu k}\n",
        "\\end{equation}\n",
        "\n",
        "where $w_N = \\mathrm{e}^{-\\mathrm{j} \\frac{2 \\pi}{N}}$ denotes the kernel of the DFT. For a sampled time-domain signal, the distance in frequency between two neighboring coefficients is given as $\\Delta f = \\frac{f_s}{N}$, where $f_s = \\frac{1}{T}$ denotes the sampling frequency. Hence, if $N$ is increased the distance between neighboring frequencies is decreased. This leads to the concept of zero-padding in spectral analysis. Here the signal $x_N[k]$ of finite length is filled up with (M-N) zero values to a total length $M \\geq N$\n",
        "\n",
        "\\begin{equation}\n",
        "x_M[k] = \\begin{cases}\n",
        "x_N[k] & \\mathrm{for} \\; k=0,1,\\dots,N-1 \\\\\n",
        "0 & \\mathrm{for} \\; k=N,N+1,\\dots,M-1\n",
        "\\end{cases}\n",
        "\\end{equation}\n",
        "\n",
        "Appending zeros does not change the contents of the signal itself. However, the DFT $X_M[\\mu]$ of $x_M[k]$ has now a decreased distance between neighboring frequencies $\\Delta f = \\frac{f_s}{M}$.\n",
        "\n",
        "The question arises what influence zero-padding has on the spectrum and if it can enhance spectral analysis. On first sight it seems that the frequency resolution is higher, however do we get more information on the signal? In order to discuss this, a short numerical example is evaluated followed by a derivation of the mathematical relations between the spectrum $X_M[k]$ with zero-padding and $X_N[k]$ without zero-padding."
      ]
    },
    {
      "cell_type": "markdown",
      "metadata": {
        "id": "BYOU3SHHdr1Z",
        "colab_type": "text"
      },
      "source": [
        "#### Example - Zero-Padding"
      ]
    },
    {
      "cell_type": "markdown",
      "metadata": {
        "id": "La5onyhldr1a",
        "colab_type": "text"
      },
      "source": [
        "The following example computes and plots the magnitude spectra $|X[\\mu]|$ of a truncated complex exponential signal $x_N[k] = \\mathrm{e}^{\\,\\mathrm{j}\\,\\Omega_0\\,k} \\cdot \\text{rect}_N[k]$ and its zero-padded version $x_M[k]$."
      ]
    },
    {
      "cell_type": "code",
      "metadata": {
        "id": "Ry6HFs0xdr1b",
        "colab_type": "code",
        "outputId": "a5c367db-2381-4ab7-a64d-808e6c43c619",
        "colab": {
          "base_uri": "https://localhost:8080/",
          "height": 464
        }
      },
      "source": [
        "%matplotlib inline\n",
        "import numpy as np\n",
        "import matplotlib.pyplot as plt\n",
        "\n",
        "N = 16  # length of the signal\n",
        "M = 1000 # length of zero-padded signal\n",
        "Om0 = 5.33*(2*np.pi/N)  # frequency of exponential signal\n",
        "\n",
        "\n",
        "# DFT of the exponential signal\n",
        "xN = np.exp(1j*Om0*np.arange(N))\n",
        "XN = np.fft.fft(xN)\n",
        "# DFT of the zero-padded exponential signal\n",
        "xM = np.concatenate((xN, np.zeros(M-N)))\n",
        "XM = np.fft.fft(xM)\n",
        "\n",
        "\n",
        "# plot spectra\n",
        "plt.figure(figsize = (10, 6))\n",
        "\n",
        "plt.subplot(121)\n",
        "plt.stem(np.arange(N),np.abs(XN))\n",
        "plt.title(r'DFT$_{%d}$ of $e^{j \\Omega_0 k}$ without zero-padding' %N)\n",
        "plt.xlabel(r'$\\mu$')\n",
        "plt.ylabel(r'$|X_N[\\mu]|$')\n",
        "plt.axis([0, N, 0, 18])\n",
        "plt.grid()\n",
        "\n",
        "plt.subplot(122)\n",
        "plt.stem(np.arange(M),np.abs(XM))\n",
        "plt.title(r'DFT$_{%d}$ of $e^{j \\Omega_0 k}$ with zero-padding' %M)\n",
        "plt.xlabel(r'$\\mu$')\n",
        "plt.ylabel(r'$|X_M[\\mu]|$')\n",
        "plt.axis([0, M, 0, 18])\n",
        "plt.grid()"
      ],
      "execution_count": 0,
      "outputs": [
        {
          "output_type": "stream",
          "text": [
            "/usr/local/lib/python3.6/dist-packages/ipykernel_launcher.py:22: UserWarning: In Matplotlib 3.3 individual lines on a stem plot will be added as a LineCollection instead of individual lines. This significantly improves the performance of a stem plot. To remove this warning and switch to the new behaviour, set the \"use_line_collection\" keyword argument to True.\n",
            "/usr/local/lib/python3.6/dist-packages/ipykernel_launcher.py:30: UserWarning: In Matplotlib 3.3 individual lines on a stem plot will be added as a LineCollection instead of individual lines. This significantly improves the performance of a stem plot. To remove this warning and switch to the new behaviour, set the \"use_line_collection\" keyword argument to True.\n"
          ],
          "name": "stderr"
        },
        {
          "output_type": "display_data",
          "data": {
            "image/png": "[encoded data removed]",
            "text/plain": [
              "<Figure size 720x432 with 2 Axes>"
            ]
          },
          "metadata": {
            "tags": [],
            "needs_background": "light"
          }
        }
      ]
    },
    {
      "cell_type": "markdown",
      "metadata": {
        "id": "5QSp0Cq_dr1g",
        "colab_type": "text"
      },
      "source": [
        "**Exercise**\n",
        "\n",
        "* Check the two spectra carefully for relations. Are there common coefficients for the case $M = 2 N$?\n",
        "* Increase the length `M` of the zero-padded signal $x_M[k]$. Can you gain additional information from the spectrum?\n",
        "\n",
        "Solution: Every second (because the DFT length has been doubled) coefficient has been added, the other coefficients stay the same. With longer zero-padding, the maximum of the main lobe of the window gets closer to its true maximum."
      ]
    },
    {
      "cell_type": "markdown",
      "metadata": {
        "id": "nyqtK8yigKjM",
        "colab_type": "text"
      },
      "source": [
        "##SOLUCION\n",
        "\n",
        "*Al observar las dos graficas al tener un M=2N si hay coeficientes repetidos, ademas de esto la señal se desplazo, el $\\mu$ se duplico y aparecieron nuevos coeficientes que antes no estaban.\n",
        "\n",
        "*Al incrementar el valor de M se puede aumentar la informacion obtenida del espectro pero esto implacaria mayor carga computacional."
      ]
    },
    {
      "cell_type": "markdown",
      "metadata": {
        "id": "Wh5dNC6Ndr1g",
        "colab_type": "text"
      },
      "source": [
        "### Interpolation of the Discrete Fourier Transformation"
      ]
    },
    {
      "cell_type": "markdown",
      "metadata": {
        "id": "UMKWA1wGdr1h",
        "colab_type": "text"
      },
      "source": [
        "Lets step back to the discrete-time Fourier transformation (DTFT) of the finite-length signal $x_N[k]$ without zero-padding\n",
        "\n",
        "\\begin{equation}\n",
        "X_N(\\mathrm{e}^{\\,\\mathrm{j}\\,\\Omega}) = \\sum_{k = -\\infty}^{\\infty} x_N[k] \\, \\mathrm{e}^{\\,-\\mathrm{j}\\,\\Omega\\,k} = \\sum_{k=0}^{N-1} x_N[k] \\,\\mathrm{e}^{-\\,\\mathrm{j}\\,\\Omega\\,k}\n",
        "\\end{equation}\n",
        "\n",
        "The discrete Fourier transformation (DFT) is derived by sampling $X_N(\\mathrm{e}^{\\mathrm{j}\\,\\Omega})$ at $\\Omega = \\mu \\frac{2 \\pi}{N}$\n",
        "\n",
        "\\begin{equation}\n",
        "X_N[\\mu] = X_N(\\mathrm{e}^{\\,\\mathrm{j}\\, \\Omega}) \\big\\vert_{\\Omega = \\mu \\frac{2 \\pi}{N}} = \\sum_{k=0}^{N-1} x_N[k] \\, \\mathrm{e}^{\\,-\\mathrm{j}\\, \\mu \\frac{2\\pi}{N}\\,k}\n",
        "\\end{equation}\n",
        "\n",
        "Since the DFT coefficients $X_N[\\mu]$ are sampled equidistantly from the DTFT $X_N(\\mathrm{e}^{\\,\\mathrm{j}\\, \\Omega})$, we can reconstruct the DTFT of $x_N[k]$ from the DFT coefficients by interpolation. Introduce the inverse DFT of $X_N[\\mu]$\n",
        "\n",
        "\\begin{equation}\n",
        "x_N[k] = \\frac{1}{N} \\sum_{\\mu = 0}^{N-1} X_N[\\mu] \\; \\mathrm{e}^{\\,\\mathrm{j}\\,\\frac{2 \\pi}{N} \\mu \\,k}\n",
        "\\end{equation}\n",
        "\n",
        "into the DTFT\n",
        "\n",
        "\\begin{equation}\n",
        "X_N(\\mathrm{e}^{\\,\\mathrm{j}\\,\\Omega}) = \\sum_{k=0}^{N-1} x_N[k] \\; \\mathrm{e}^{-\\,\\mathrm{j}\\, \\Omega\\, k} = \n",
        "\\sum_{\\mu=0}^{N-1} X_N[\\mu] \\cdot \\frac{1}{N} \\sum_{k=0}^{N-1} \\mathrm{e}^{-\\mathrm{j}\\, k \\,(\\Omega - \\frac{2 \\pi}{N} \\mu)}\n",
        "\\end{equation}\n",
        "\n",
        "reveals the relation between $X_N(\\mathrm{e}^{\\,\\mathrm{j}\\,\\Omega})$ and $X_N[\\mu]$. The last sum over $k$ constitutes a [geometric series](https://en.wikipedia.org/wiki/Geometric_series) and can be rearranged to\n",
        "\n",
        "\\begin{equation}\n",
        "X_N(\\mathrm{e}^{\\,\\mathrm{j}\\,\\Omega}) = \\sum_{\\mu=0}^{N-1} X_N[\\mu] \\cdot \\frac{1}{N} \\cdot \\frac{1-\\mathrm{e}^{-\\mathrm{j}(\\Omega-\\frac{2\\pi}{N}\\mu)N}}{1-\\mathrm{e}^{-\\mathrm{j}(\\Omega-\\frac{2\\pi}{N}\\mu)}}\n",
        "\\end{equation}\n",
        "\n",
        "By factorizing the last fraction to\n",
        "\n",
        "\\begin{equation}\n",
        "X_N(\\mathrm{e}^{\\,\\mathrm{j}\\,\\Omega}) = \\sum_{\\mu=0}^{N-1} X_N[\\mu] \\cdot \\frac{1}{N} \\cdot \\frac{\\mathrm{e}^{-\\mathrm{j}\\frac{(\\Omega-\\frac{2\\pi}{N}\\mu)N}{2}}}{\\mathrm{e}^{-\\mathrm{j}\\frac{\\Omega-\\frac{2\\pi}{N}\\mu}{2}}} \\cdot \\frac{\\mathrm{e}^{\\mathrm{j}\\frac{(\\Omega-\\frac{2\\pi}{N}\\mu)N}{2}}-\\mathrm{e}^{-\\mathrm{j}\\frac{(\\Omega-\\frac{2\\pi}{N}\\mu)N}{2}}}{\\mathrm{e}^{\\mathrm{j}\\frac{\\Omega-\\frac{2\\pi}{N}\\mu}{2}}-\\mathrm{e}^{-\\mathrm{j}\\frac{\\Omega-\\frac{2\\pi}{N}\\mu}{2}}}\n",
        "\\end{equation}\n",
        "\n",
        "and making use of [Euler's identity](https://en.wikipedia.org/wiki/Euler%27s_identity) $2\\mathrm{j}\\cdot\\sin(x)=\\mathrm{e}^{\\mathrm{j} x}-\\mathrm{e}^{-\\mathrm{j} x}$ this can be simplified to\n",
        "\n",
        "\\begin{equation}\n",
        "X_N(\\mathrm{e}^{\\,\\mathrm{j}\\,\\Omega}) = \\sum_{\\mu=0}^{N-1} X_N[\\mu] \\cdot \\mathrm{e}^{-\\mathrm{j}\\frac{(\\Omega-\\frac{2\\pi}{N}\\mu)(N-1)}{2}} \\cdot \\frac{1}{N} \\cdot \\frac{\\sin(N\\frac{\\Omega-\\frac{2\\pi}{N}\\mu}{2})}{\\sin(\\frac{\\Omega-\\frac{2\\pi}{N}\\mu}{2})}\n",
        "\\end{equation}\n",
        "\n",
        "The last fraction can be written in terms of the $N$-th order periodic sinc function (aliased sinc function, [Dirichlet kernel](https://en.wikipedia.org/wiki/Dirichlet_kernel)), which is defined as\n",
        "\n",
        "\\begin{equation}\n",
        "\\text{psinc}_N (\\Omega) = \\frac{1}{N} \\frac{\\sin(\\frac{N}{2} \\Omega)}{  \\sin(\\frac{1}{2} \\Omega)}\n",
        "\\end{equation}\n",
        "\n",
        "According to this definition, the periodic sinc function is not defined at $\\Omega = 2 \\pi \\,n$ for $n \\in \\mathbb{Z}$. This is resolved by applying [L'Hôpital's rule](https://en.wikipedia.org/wiki/L%27H%C3%B4pital%27s_rule) which results in $\\text{psinc}_N (2 \\pi \\,n) = 1$ for $n \\in \\mathbb{Z}$.\n",
        "\n",
        "Using the periodic sinc function, the DTFT $X_N(\\mathrm{e}^{\\,\\mathrm{j}\\, \\Omega})$ of a finite-length signal $x_N[k]$ can be derived from its DFT $X_N[\\mu]$ by\n",
        "\n",
        "\\begin{equation}\n",
        "X_N(\\mathrm{e}^{\\,\\mathrm{j}\\, \\Omega}) =  \\sum_{\\mu=0}^{N-1} X_N[\\mu] \\cdot \\mathrm{e}^{-\\,\\mathrm{j}\\, \\frac{( \\Omega - \\frac{2 \\pi}{N} \\mu ) (N-1)}{2}} \\cdot \\text{psinc}_N ( \\Omega - \\frac{2 \\pi}{N} \\mu )\n",
        "\\end{equation}"
      ]
    },
    {
      "cell_type": "markdown",
      "metadata": {
        "id": "CjNKoOxHdr1i",
        "colab_type": "text"
      },
      "source": [
        "#### Example - Periodic sinc function\n",
        "\n",
        "This example illustrates the\n",
        "\n",
        "1. periodic sinc function, and\n",
        "2. interpolation of $X_N(\\mathrm{e}^{\\,\\mathrm{j}\\, \\Omega})$ from $X_N[\\mu]$ for an exponential signal using above relation."
      ]
    },
    {
      "cell_type": "code",
      "metadata": {
        "id": "1y7ihUfBdr1i",
        "colab_type": "code",
        "outputId": "bd20f4bb-9bc6-4344-c0c8-deeca1fe7cdb",
        "colab": {}
      },
      "source": [
        "N = 16  # order of periodic sinc function\n",
        "M = 1024  # number of frequency points\n",
        "Om = np.linspace(-np.pi, np.pi, M)\n",
        "\n",
        "# definition of periodic sinc function\n",
        "def psinc(x, N):\n",
        "    x = np.asanyarray(x)\n",
        "    y = np.where(x == 0, 1.0e-20, x)\n",
        "    return 1/N * np.sin(N/2*y)/np.sin(1/2*y)\n",
        "\n",
        "# plot psinc\n",
        "plt.figure(figsize = (10, 8))\n",
        "plt.plot(Om, psinc(Om, 16))\n",
        "plt.xlabel(r'$\\Omega$')\n",
        "plt.ylabel(r'$\\mathrm{psinc}_N (\\Omega)$')\n",
        "plt.grid()"
      ],
      "execution_count": 0,
      "outputs": [
        {
          "output_type": "display_data",
          "data": {
            "image/png": "[encoded data removed]",
            "text/plain": [
              "<Figure size 720x576 with 1 Axes>"
            ]
          },
          "metadata": {
            "tags": []
          }
        }
      ]
    },
    {
      "cell_type": "code",
      "metadata": {
        "id": "uZGR2vANdr1m",
        "colab_type": "code",
        "outputId": "69ca6334-a88d-4fae-c745-d919b1f242b8",
        "colab": {}
      },
      "source": [
        "N = 16  # length of the signal\n",
        "M = 1024  # number of frequency points for DTFT\n",
        "Om0 = 5.33*(2*np.pi/N)  # frequency of exponential signal\n",
        "\n",
        "\n",
        "# DFT of the exponential signal\n",
        "xN = np.exp(1j*Om0*np.arange(N))\n",
        "XN = np.fft.fft(xN)\n",
        "\n",
        "# interpolation of DTFT from DFT coefficients\n",
        "Xi = np.asarray(np.zeros(M), dtype=complex)\n",
        "for mu in np.arange(M):\n",
        "    Omd = 2*np.pi/M*mu-2*np.pi*np.arange(N)/N\n",
        "    interpolator = psinc(Omd, N) * np.exp(-1j*Omd*(N-1)/2)\n",
        "    Xi[mu] = np.sum(XN * interpolator)\n",
        "\n",
        "# plot spectra\n",
        "plt.figure(figsize = (10, 8))\n",
        "ax1 = plt.gca()\n",
        "\n",
        "plt.plot(np.arange(M)*2*np.pi/M, abs(Xi), 'r', label=r'$|X_N(e^{j \\Omega})|$')\n",
        "plt.stem(np.arange(N)*2*np.pi/N, abs(XN), basefmt = ' ', label=r'$|X_N[\\mu]|$')\n",
        "plt.title(r'DFT $X_N[\\mu]$ and interpolated DTFT $X_N(e^{j \\Omega})$', y=1.08)\n",
        "plt.ylim([-0.5, N+2]);\n",
        "plt.legend()\n",
        "\n",
        "ax1.set_xlabel(r'$\\Omega$')\n",
        "ax1.set_xlim([0, 2*np.pi])\n",
        "ax1.grid()\n",
        "\n",
        "ax2 = ax1.twiny()\n",
        "ax2.set_xlim([0, N])\n",
        "ax2.set_xlabel(r'$\\mu$', color='C0')\n",
        "ax2.tick_params('x', colors='C0')"
      ],
      "execution_count": 0,
      "outputs": [
        {
          "output_type": "display_data",
          "data": {
            "image/png": "[encoded data removed]",
            "text/plain": [
              "<Figure size 720x576 with 2 Axes>"
            ]
          },
          "metadata": {
            "tags": []
          }
        }
      ]
    },
    {
      "cell_type": "markdown",
      "metadata": {
        "id": "YVhXTe_vdr1p",
        "colab_type": "text"
      },
      "source": [
        "### Relation between Discrete Fourier Transformations with and without Zero-Padding\n",
        "\n",
        "It was already outlined above that the DFT is related to the DTFT by sampling. Hence, the DFT $X_M[\\mu]$ is given by sampling the DTFT $X_M(\\mathrm{e}^{\\mathrm{j}\\, \\Omega})$ at $\\Omega = \\frac{2 \\pi}{M} \\mu$. Since the zero-padded signal $x_M[k]$ differs from $x_N[k]$ only with respect to the additional zeros, the DTFTs of both are equal\n",
        "\n",
        "\\begin{equation}\n",
        "X_M(\\mathrm{e}^{\\mathrm{j}\\, \\Omega}) = X_N(\\mathrm{e}^{\\mathrm{j}\\, \\Omega})\n",
        "\\end{equation}\n",
        "\n",
        "The desired relation between the DFTs $X_N[\\mu]$ and $X_M[\\mu]$ of the signal $x_N[k]$ and its zero-padded version $x_M[k]$ can be found by sampling the interpolated DTFT $X_N(\\mathrm{e}^{\\mathrm{j}\\, \\Omega})$ at $\\Omega = \\frac{2 \\pi}{M} \\mu$\n",
        "\n",
        "\\begin{equation}\n",
        "X_M[\\mu] =  \\sum_{\\eta=0}^{N-1} X_N[\\eta] \\cdot \\mathrm{e}^{\\,-\\mathrm{j}\\, \\frac{( \\frac{2 \\pi}{M} \\mu - \\frac{2 \\pi}{N} \\eta ) (N-1)}{2}} \\cdot \\text{psinc}_N \\left( \\frac{2 \\pi}{M} \\mu - \\frac{2 \\pi}{N} \\eta \\right)\n",
        "\\end{equation}\n",
        "\n",
        "for $\\mu = 0, 1, \\dots, M-1$.\n",
        "\n",
        "Above equation relates the spectrum $X_N[\\mu]$ of the original signal $x_N[k]$ to the spectrum $X_M[\\mu]$ of the zero-padded signal $x_M[k]$. It essentially constitutes a bandlimited interpolation of the coefficients $X_N[\\mu]$.\n",
        "\n",
        "All spectral information of a signal of finite length $N$ is already contained in its spectrum derived from a DFT of length $N$. By applying zero-padding and a longer DFT, the frequency resolution is only virtually increased. The additional coefficients are related to the original ones by bandlimited interpolation. In general, zero-padding does not bring additional insights in spectral analysis. It may bring a benefit in special applications, for instance when estimating the frequency of an isolated harmonic signal from its spectrum. This is illustrated in the following example. \n",
        "\n",
        "Zero-padding is also used to make a circular convolution equivalent to a linear convolution. However, there is a different reasoning behind this. Details are discussed in a [later section](../nonrecursive_filters/fast_convolution.ipynb#Linear-Convolution-by-Periodic-Convolution)."
      ]
    },
    {
      "cell_type": "markdown",
      "metadata": {
        "id": "NUrb25Dvdr1q",
        "colab_type": "text"
      },
      "source": [
        "#### Example - Interpolation of the DFT"
      ]
    },
    {
      "cell_type": "markdown",
      "metadata": {
        "id": "dfpA_2zFdr1r",
        "colab_type": "text"
      },
      "source": [
        "The following example shows that the coefficients $X_M[\\mu]$ of the spectrum of the zero-padded signal $x_M[k]$ can be derived by interpolation from the spectrum $X_N[\\mu]$."
      ]
    },
    {
      "cell_type": "code",
      "metadata": {
        "id": "oJdWVUISdr1r",
        "colab_type": "code",
        "outputId": "3be5a63f-8972-4bbb-8480-62b19d43411b",
        "colab": {
          "base_uri": "https://localhost:8080/",
          "height": 464
        }
      },
      "source": [
        "N = 16 # length of the signal\n",
        "M = 32  # number of points for interpolated DFT\n",
        "Om0 = 5.33*(2*np.pi/N)  # frequency of exponential signal\n",
        "\n",
        "\n",
        "# periodic sinc function\n",
        "def psinc(x, N):\n",
        "    x = np.asanyarray(x)\n",
        "    y = np.where(x == 0, 1.0e-20, x)\n",
        "    return 1/N * np.sin(N/2*y)/np.sin(1/2*y)\n",
        "\n",
        "# DFT of the exponential signal\n",
        "xN = np.exp(1j*Om0*np.arange(N))\n",
        "XN = np.fft.fft(xN)\n",
        "\n",
        "# interpolation of DFT coefficients\n",
        "XM = np.asarray(np.zeros(M), dtype=complex)\n",
        "for mu in np.arange(M):\n",
        "    Omd = 2*np.pi/M*mu-2*np.pi*np.arange(N)/N\n",
        "    interpolator = psinc(Omd, N) * np.exp(-1j*Omd*(N-1)/2)\n",
        "    XM[mu] = np.sum(XN * interpolator)\n",
        "\n",
        "# plot spectra\n",
        "plt.figure(figsize = (10, 6))\n",
        "\n",
        "plt.subplot(121)\n",
        "plt.stem(np.arange(N),np.abs(XN))\n",
        "plt.title(r'DFT of $e^{j \\Omega_0 k}$ without zero-padding')\n",
        "plt.xlabel(r'$\\mu$')\n",
        "plt.ylabel(r'$|X_N[\\mu]|$')\n",
        "plt.axis([0, N, 0, 18])\n",
        "plt.grid()\n",
        "\n",
        "plt.subplot(122)\n",
        "plt.stem(np.arange(M),np.abs(XM))\n",
        "plt.title(r'Interpolated spectrum')\n",
        "plt.xlabel(r'$\\mu$')\n",
        "plt.ylabel(r'$|X_M[\\mu]|$')\n",
        "plt.axis([0, M, 0, 18])\n",
        "plt.grid()"
      ],
      "execution_count": 0,
      "outputs": [
        {
          "output_type": "stream",
          "text": [
            "/usr/local/lib/python3.6/dist-packages/ipykernel_launcher.py:27: UserWarning: In Matplotlib 3.3 individual lines on a stem plot will be added as a LineCollection instead of individual lines. This significantly improves the performance of a stem plot. To remove this warning and switch to the new behaviour, set the \"use_line_collection\" keyword argument to True.\n",
            "/usr/local/lib/python3.6/dist-packages/ipykernel_launcher.py:35: UserWarning: In Matplotlib 3.3 individual lines on a stem plot will be added as a LineCollection instead of individual lines. This significantly improves the performance of a stem plot. To remove this warning and switch to the new behaviour, set the \"use_line_collection\" keyword argument to True.\n"
          ],
          "name": "stderr"
        },
        {
          "output_type": "display_data",
          "data": {
            "image/png": "[encoded data removed]",
            "text/plain": [
              "<Figure size 720x432 with 2 Axes>"
            ]
          },
          "metadata": {
            "tags": [],
            "needs_background": "light"
          }
        }
      ]
    },
    {
      "cell_type": "markdown",
      "metadata": {
        "id": "bvWTY3pJdr1v",
        "colab_type": "text"
      },
      "source": [
        "**Exercise**\n",
        "\n",
        "* Compare the interpolated spectrum to the spectrum with zero padding from the first example.\n",
        "* Estimate the frequency $\\Omega_0$ of the exponential signal from the interpolated spectrum. How could you further increase the accuracy of your estimate?\n",
        "\n",
        "Solution: The interpolated spectrum is the same as the spectrum with zero padding from the first example. The estimated frequency from the interpolated spectrum is $\\Omega_0=\\frac{2\\pi}{M}\\mu=\\frac{2\\pi}{32}\\cdot11$. A better estimate can be obtained by increasing the number of points for the interpolated DFT or by further zero-padding of the time domain signal."
      ]
    },
    {
      "cell_type": "markdown",
      "metadata": {
        "id": "ANNUEIBoj5hv",
        "colab_type": "text"
      },
      "source": [
        "##SOLUCION\n",
        "*Al comparar el espectro de la interpolado y la de zero-padding se puede ver que son exactamente iguales.\n",
        "\n",
        "*Al aumentar mucho el valor de N de la en la ecuacion 2*np.pi/M*mu-2*np.pi*np.arange(N)/N  la parte despues del menos tendera a 0 y de esta forma tendremos que la estimacion de la frecuencia seria $\\Omega_0=\\frac{2\\pi}{M}\\mu$."
      ]
    },
    {
      "cell_type": "markdown",
      "metadata": {
        "id": "Z7wfg1PJdr1w",
        "colab_type": "text"
      },
      "source": [
        "#### Example - Estimation of Frequency and Amplitude of a Harmonic Signal\n",
        "\n",
        "The estimation of the normalized frequency $\\Omega_0$ and amplitude $A$ of a single exponential signal $x_N[k] = A \\cdot e^{j \\Omega_0 k}$ by the DFT of the zero-padded signal (or interpolated DFT) is illustrated in the following example. The frequency is estimated from the DFT of the zero-padded signal by finding the maximum in the magnitude spectrum\n",
        "\n",
        "\\begin{equation}\n",
        "\\hat{\\mu_0} = \\underset{\\mu}{\\mathrm{argmax}} \\{ |X_M[\\mu]| \\}\n",
        "\\end{equation}\n",
        "\n",
        "The amplitude is estimated by taking the magnitude at the maximum $\\hat{A} = | X_M[\\hat{\\mu}_0] |$. \n",
        "\n",
        "First a function is defined which estimates the frequency for a given number of zeros appended to the signal before calculating the DFT. Without loss of generality is is assumed that $A=1$."
      ]
    },
    {
      "cell_type": "code",
      "metadata": {
        "id": "EYOnp2Xqdr1x",
        "colab_type": "code",
        "colab": {}
      },
      "source": [
        "N = 128  # length of the signal\n",
        "Om0 = 5.33*(2*np.pi/N)  # frequency of exponential signal\n",
        "\n",
        "# generate harmonic signal\n",
        "k = np.arange(N)\n",
        "x = np.exp(1j*Om0*np.arange(N))\n",
        "\n",
        "\n",
        "def estimate_frequency_amplitude(x, P):\n",
        "    # perform zero-padding and DFT\n",
        "    xM = np.concatenate((x, np.zeros(P)))\n",
        "    XM = np.fft.fft(xM)\n",
        "\n",
        "    # estimate frequency/amplitude of harmonic signal\n",
        "    mu_max = np.argmax(abs(XM))\n",
        "    amplitude = 1/N * abs(XM[mu_max])\n",
        "\n",
        "    # print results\n",
        "    Om = np.fft.fftfreq(N+P, 1/(2*np.pi))\n",
        "    print('Normalized frequency of signal: {0:1.4f} (real) / {1:1.4f} (estimated) / {2:1.4f} (absolute error)'.format(Om0, Om[mu_max], abs(Om0 - Om[mu_max])))\n",
        "    print('Amplitude of signal: {0:1.4f} (real) / {1:1.4f} (estimated) / {2:2.2f} dB (magnitude error)'.format(1, amplitude, 20*np.log10(abs(1/amplitude))))"
      ],
      "execution_count": 0,
      "outputs": []
    },
    {
      "cell_type": "markdown",
      "metadata": {
        "id": "VCsSCZsYdr10",
        "colab_type": "text"
      },
      "source": [
        "First the estimation is performed without zero-padding"
      ]
    },
    {
      "cell_type": "code",
      "metadata": {
        "id": "dWu3gZawdr10",
        "colab_type": "code",
        "outputId": "4f0dbd2d-3d3b-4d6b-f8ae-60c01fe56f2c",
        "colab": {}
      },
      "source": [
        "estimate_frequency_amplitude(x, 0)"
      ],
      "execution_count": 0,
      "outputs": [
        {
          "output_type": "stream",
          "text": [
            "Normalized frequency of signal: 0.2616 (real) / 0.2454 (estimated) / 0.0162 (absolute error)\n",
            "Amplitude of signal: 1.0000 (real) / 0.8303 (estimated) / 1.62 dB (magnitude error)\n"
          ],
          "name": "stdout"
        }
      ]
    },
    {
      "cell_type": "markdown",
      "metadata": {
        "id": "W2kpPFI_dr13",
        "colab_type": "text"
      },
      "source": [
        "Then the signal is zero-padded to a total length of eight times its original length"
      ]
    },
    {
      "cell_type": "code",
      "metadata": {
        "id": "QWp5TJFddr14",
        "colab_type": "code",
        "outputId": "3d3d3f94-e6fc-4652-b37c-d9acc9934c84",
        "colab": {}
      },
      "source": [
        "estimate_frequency_amplitude(x, 7*N)"
      ],
      "execution_count": 0,
      "outputs": [
        {
          "output_type": "stream",
          "text": [
            "Normalized frequency of signal: 0.2616 (real) / 0.2638 (estimated) / 0.0022 (absolute error)\n",
            "Amplitude of signal: 1.0000 (real) / 0.9967 (estimated) / 0.03 dB (magnitude error)\n"
          ],
          "name": "stdout"
        }
      ]
    },
    {
      "cell_type": "markdown",
      "metadata": {
        "id": "wkom6CVJdr17",
        "colab_type": "text"
      },
      "source": [
        "**Exercise**\n",
        "\n",
        "* What is the maximum error that can occur when estimating the frequency from the maximum of the (zero-padded) magnitude spectrum?\n",
        "\n",
        "Solution: The maximum absolute error occurs if the maximum in the DTFT of the signal is in between two adjacent bins $\\mu$ of the DFT. Since the DTFT is sampled at $\\Omega = \\frac{2 \\pi}{M}$ to derive the DFT, the maximum absolute error is given by $\\frac{\\pi}{M}$ where $M$ denotes the length of the zero-padded signal/DFT."
      ]
    },
    {
      "cell_type": "markdown",
      "metadata": {
        "id": "4zmbI1fmmnhs",
        "colab_type": "text"
      },
      "source": [
        "## SOLUCION\n",
        "\n",
        "\n",
        "\n",
        "*  Para saber cuando es el error maximo esta dado el ultimo armonico.\n",
        "\n",
        "\n"
      ]
    },
    {
      "cell_type": "markdown",
      "metadata": {
        "nbsphinx": "hidden",
        "id": "avm24hxMdr1-",
        "colab_type": "text"
      },
      "source": [
        "**Copyright**\n",
        "\n",
        "This notebook is provided as [Open Educational Resource](https://en.wikipedia.org/wiki/Open_educational_resources). Feel free to use the notebook for your own purposes. The text is licensed under [Creative Commons Attribution 4.0](https://creativecommons.org/licenses/by/4.0/), the code of the IPython examples under the [MIT license](https://opensource.org/licenses/MIT). Please attribute the work as follows: *Sascha Spors, Digital Signal Processing - Lecture notes featuring computational examples, 2016-2018*."
      ]
    }
  ]
}